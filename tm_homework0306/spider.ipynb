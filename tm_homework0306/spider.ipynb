{
 "cells": [
  {
   "cell_type": "code",
   "execution_count": 1,
   "id": "c995916a",
   "metadata": {
    "ExecuteTime": {
     "end_time": "2024-03-08T13:08:15.010292Z",
     "start_time": "2024-03-08T13:08:14.876946Z"
    }
   },
   "outputs": [],
   "source": [
    "import requests\n",
    "from bs4 import BeautifulSoup"
   ]
  },
  {
   "cell_type": "code",
   "execution_count": 2,
   "id": "c3f0d1d2",
   "metadata": {
    "ExecuteTime": {
     "end_time": "2024-03-08T13:08:15.230271Z",
     "start_time": "2024-03-08T13:08:15.226372Z"
    }
   },
   "outputs": [],
   "source": [
    "headers = {'User-Agent':\n",
    "         'Mozilla/5.0 (Windows NT 10.0; Win64; x64) AppleWebKit/537.36 (KHTML, like Gecko) Chrome/117.0.0.0 Safari/537.36 Edg/117.0.2045.36'}"
   ]
  },
  {
   "cell_type": "code",
   "execution_count": 3,
   "id": "9b48ba5e",
   "metadata": {
    "ExecuteTime": {
     "end_time": "2024-03-08T13:08:15.683393Z",
     "start_time": "2024-03-08T13:08:15.679499Z"
    }
   },
   "outputs": [],
   "source": [
    "def get_report_response(url):\n",
    "    response = requests.get(url,headers = headers)\n",
    "    response.encoding = 'utf-8'\n",
    "    html = response.text\n",
    "    soup = BeautifulSoup(html,'lxml')\n",
    "    return soup"
   ]
  },
  {
   "cell_type": "code",
   "execution_count": 4,
   "id": "7bc45e42",
   "metadata": {
    "ExecuteTime": {
     "end_time": "2024-03-08T13:08:16.036852Z",
     "start_time": "2024-03-08T13:08:16.032957Z"
    }
   },
   "outputs": [],
   "source": [
    "def report_url_spider():\n",
    "    soup = get_report_response('http://www.hprc.org.cn/wxzl/wxysl/lczf/')\n",
    "    content_all = soup.find_all('a',target = '_blank')\n",
    "    report_url_all = []\n",
    "    for content in content_all:\n",
    "        # print(content)\n",
    "        if \"报告\" in str(content):\n",
    "            report_url_all.append(content)\n",
    "    return report_url_all"
   ]
  },
  {
   "cell_type": "code",
   "execution_count": 8,
   "id": "7bdd857f",
   "metadata": {
    "ExecuteTime": {
     "end_time": "2024-03-08T13:08:16.401845Z",
     "start_time": "2024-03-08T13:08:16.397952Z"
    }
   },
   "outputs": [],
   "source": [
    "def contain_years(string):\n",
    "    years = [\"2024\", \"2023\", \"2022\", \"2021\", \"2020\", \"2019\", \"2018\", \"2017\", \"2016\", \"2015\"]\n",
    "    # years = [year for year in range(1954, 2024)]\n",
    "    for year in years:\n",
    "        if str(year) in string:\n",
    "            return True\n",
    "    return False"
   ]
  },
  {
   "cell_type": "code",
   "execution_count": 9,
   "id": "cdff65ae",
   "metadata": {
    "ExecuteTime": {
     "end_time": "2024-03-08T13:08:16.819671Z",
     "start_time": "2024-03-08T13:08:16.813830Z"
    }
   },
   "outputs": [],
   "source": [
    "def report_content_spider(report_url_all):\n",
    "    for report_url in report_url_all:\n",
    "        if contain_years(str(report_url['title'])):\n",
    "            \n",
    "            suffix = report_url['href'].replace('./','')\n",
    "        \n",
    "            report_real_url = \"http://www.hprc.org.cn/wxzl/wxysl/lczf/\" + suffix\n",
    "        \n",
    "            soup = get_report_response(report_real_url)\n",
    "            content_all = soup.find_all('p')\n",
    "            report_text = \"\"\n",
    "            for content in content_all:\n",
    "                content = (content.get_text()).replace('\\u3000','')\n",
    "                content = content.replace('\\xa0','')\n",
    "                report_text = report_text + content\n",
    "            with open(str('reports/'+report_url['title'])+'.txt','w',encoding='utf-8') as f:\n",
    "                f.write(report_text)\n",
    "            # print(report_text)"
   ]
  },
  {
   "cell_type": "code",
   "execution_count": 10,
   "id": "b31e4390",
   "metadata": {
    "ExecuteTime": {
     "end_time": "2024-03-08T13:08:18.773543Z",
     "start_time": "2024-03-08T13:08:17.532372Z"
    }
   },
   "outputs": [],
   "source": [
    "report_content_spider(report_url_spider())"
   ]
  },
  {
   "cell_type": "code",
   "execution_count": null,
   "id": "804a02f7",
   "metadata": {},
   "outputs": [],
   "source": []
  },
  {
   "cell_type": "code",
   "execution_count": null,
   "id": "b010f2d4",
   "metadata": {},
   "outputs": [],
   "source": []
  },
  {
   "cell_type": "code",
   "execution_count": null,
   "id": "0e746896-f50e-498c-be8f-0085596c8c70",
   "metadata": {},
   "outputs": [],
   "source": []
  }
 ],
 "metadata": {
  "kernelspec": {
   "display_name": "torch222",
   "language": "python",
   "name": "torch222"
  },
  "language_info": {
   "codemirror_mode": {
    "name": "ipython",
    "version": 3
   },
   "file_extension": ".py",
   "mimetype": "text/x-python",
   "name": "python",
   "nbconvert_exporter": "python",
   "pygments_lexer": "ipython3",
   "version": "3.9.19"
  },
  "toc": {
   "base_numbering": 1,
   "nav_menu": {},
   "number_sections": true,
   "sideBar": true,
   "skip_h1_title": false,
   "title_cell": "Table of Contents",
   "title_sidebar": "Contents",
   "toc_cell": false,
   "toc_position": {},
   "toc_section_display": true,
   "toc_window_display": false
  },
  "varInspector": {
   "cols": {
    "lenName": 16,
    "lenType": 16,
    "lenVar": 40
   },
   "kernels_config": {
    "python": {
     "delete_cmd_postfix": "",
     "delete_cmd_prefix": "del ",
     "library": "var_list.py",
     "varRefreshCmd": "print(var_dic_list())"
    },
    "r": {
     "delete_cmd_postfix": ") ",
     "delete_cmd_prefix": "rm(",
     "library": "var_list.r",
     "varRefreshCmd": "cat(var_dic_list()) "
    }
   },
   "types_to_exclude": [
    "module",
    "function",
    "builtin_function_or_method",
    "instance",
    "_Feature"
   ],
   "window_display": false
  }
 },
 "nbformat": 4,
 "nbformat_minor": 5
}
