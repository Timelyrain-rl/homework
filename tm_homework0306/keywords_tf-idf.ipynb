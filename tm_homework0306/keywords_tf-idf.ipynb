{
 "cells": [
  {
   "cell_type": "code",
   "execution_count": 1,
   "id": "76b77ae9",
   "metadata": {
    "ExecuteTime": {
     "end_time": "2024-03-08T13:37:08.381852Z",
     "start_time": "2024-03-08T13:37:07.963510Z"
    }
   },
   "outputs": [],
   "source": [
    "import math\n",
    "import jieba\n",
    "from io import BytesIO\n",
    "import base64\n",
    "from wordcloud import WordCloud\n",
    "import matplotlib.pyplot as plt\n",
    "import matplotlib.font_manager as fm\n",
    "plt.rcParams['font.sans-serif'] = [u'SimHei']\n",
    "plt.rcParams['axes.unicode_minus'] = False\n",
    "font_path = \"C:/Windows/Fonts/simfang.ttf\"  "
   ]
  },
  {
   "cell_type": "code",
   "execution_count": 2,
   "id": "de2d6484",
   "metadata": {
    "ExecuteTime": {
     "end_time": "2024-03-08T13:37:08.874610Z",
     "start_time": "2024-03-08T13:37:08.869744Z"
    }
   },
   "outputs": [],
   "source": [
    "# 读取文件\n",
    "def read_txt(year):\n",
    "    with open('reports/'+str(year)+'年政府工作报告.txt', 'r', encoding='utf-8') as f:\n",
    "        file_content = f.read()\n",
    "    return file_content"
   ]
  },
  {
   "cell_type": "code",
   "execution_count": 3,
   "id": "3e6ccd4b",
   "metadata": {
    "ExecuteTime": {
     "end_time": "2024-03-08T13:37:09.516802Z",
     "start_time": "2024-03-08T13:37:09.512907Z"
    }
   },
   "outputs": [],
   "source": [
    "# 分词,保存为一个二维列表,长度为10,其中每个列表保存一个报告的分词结果\n",
    "# 可通过修改range的范围来进行复用\n",
    "def content_cut():\n",
    "    txt_content_cuts_all = []\n",
    "    jieba.load_userdict('self_userdict.txt')\n",
    "    for year in range(2015,2025):\n",
    "        txt_content = read_txt(year)\n",
    "        txt_content_cuts = jieba.lcut(txt_content)\n",
    "        txt_content_cuts_all.append(txt_content_cuts)\n",
    "    return txt_content_cuts_all"
   ]
  },
  {
   "cell_type": "code",
   "execution_count": 4,
   "id": "0f6a6638",
   "metadata": {
    "ExecuteTime": {
     "end_time": "2024-03-08T13:37:10.071301Z",
     "start_time": "2024-03-08T13:37:10.066434Z"
    }
   },
   "outputs": [],
   "source": [
    "# 加载停用词,使用的是百度的停用词表\n",
    "def stopwords_load():\n",
    "    stopwords=set()\n",
    "    with open('baidu_stopwords.txt','r',encoding='utf-8') as f:\n",
    "        lines = f.readlines()\n",
    "    for line in lines:\n",
    "        stopwords.add(line.strip())\n",
    "    return stopwords"
   ]
  },
  {
   "cell_type": "code",
   "execution_count": 5,
   "id": "20b253af",
   "metadata": {
    "ExecuteTime": {
     "end_time": "2024-03-08T13:37:10.612406Z",
     "start_time": "2024-03-08T13:37:10.608517Z"
    }
   },
   "outputs": [],
   "source": [
    "# 添加停用词,使用的停用词表有部分不全,自己进行补全\n",
    "def stopwords_add(stopwords):\n",
    "    with open('self_stopwords.txt','r',encoding='utf-8') as f:\n",
    "        lines = f.readlines()\n",
    "    for line in lines:\n",
    "        stopwords.add(line.strip())\n",
    "    return stopwords"
   ]
  },
  {
   "cell_type": "code",
   "execution_count": 6,
   "id": "732105d4",
   "metadata": {
    "ExecuteTime": {
     "end_time": "2024-03-08T13:37:11.243138Z",
     "start_time": "2024-03-08T13:37:11.237293Z"
    }
   },
   "outputs": [],
   "source": [
    "# 删除停用词,遍历,将词频保存为字典,再将字典保存到一个列表中\n",
    "def form_dict_list(txt_content_cuts_all):\n",
    "    stopwords = stopwords_load()\n",
    "    stopwords = stopwords_add(stopwords)\n",
    "    stopwords.add('\\n')\n",
    "    stopwords.add(' ')\n",
    "    stopwords.add('\\u2002')\n",
    "    keywords_dict_list = []\n",
    "    for txt_content_cuts in txt_content_cuts_all:\n",
    "        keywords_dict = {}\n",
    "        for txt_content_cut in txt_content_cuts:\n",
    "            if txt_content_cut not in stopwords:\n",
    "                if txt_content_cut in keywords_dict:\n",
    "                    keywords_dict[txt_content_cut] += 1\n",
    "                else:\n",
    "                    keywords_dict[txt_content_cut] = 1\n",
    "        keywords_dict_list.append(keywords_dict)\n",
    "    return keywords_dict_list"
   ]
  },
  {
   "cell_type": "code",
   "execution_count": 7,
   "id": "9eafa192",
   "metadata": {
    "ExecuteTime": {
     "end_time": "2024-03-08T13:37:11.833941Z",
     "start_time": "2024-03-08T13:37:11.829072Z"
    }
   },
   "outputs": [],
   "source": [
    "# 排序,按字典的值从大到小排序,将列表转换为三维\n",
    "# 其实是我自己造成的bug\n",
    "# 刚开始对题目理解错误，对词频进行了排序\n",
    "# 本来里面保存的是字典，结果变成列表里一堆元组\n",
    "# 后续计算还都是按元组来的，要是删掉就太麻烦了\n",
    "def sorted_by_value(keywords_dict_list):\n",
    "    sorted_dict_list = []\n",
    "    for i in range(len(keywords_dict_list)):\n",
    "        sorted_dict_list.append(sorted(keywords_dict_list[i].items(), key=lambda x: x[1], reverse=True))\n",
    "    return sorted_dict_list"
   ]
  },
  {
   "cell_type": "code",
   "execution_count": 8,
   "id": "c268eaf5",
   "metadata": {
    "ExecuteTime": {
     "end_time": "2024-03-08T13:37:12.325471Z",
     "start_time": "2024-03-08T13:37:12.320605Z"
    }
   },
   "outputs": [],
   "source": [
    "# 词集合，去重\n",
    "def keywords_sum(keywords_dict_list):\n",
    "    keyword_set = set()\n",
    "    for i in range(len(keywords_dict_list)): \n",
    "        for j in range(len(keywords_dict_list[i])):\n",
    "            keyword = keywords_dict_list[i][j][0]\n",
    "            keyword_set.add(keyword)\n",
    "    return keyword_set"
   ]
  },
  {
   "cell_type": "code",
   "execution_count": 9,
   "id": "629af63b",
   "metadata": {
    "ExecuteTime": {
     "end_time": "2024-03-08T13:37:12.955135Z",
     "start_time": "2024-03-08T13:37:12.950268Z"
    }
   },
   "outputs": [],
   "source": [
    "# 查看某一词出现的文章数\n",
    "def count_word_occurrences(keywords_dict_list, keyword):\n",
    "    count = 0\n",
    "    for i in range(len(keywords_dict_list)):\n",
    "        for item in keywords_dict_list[i]:  \n",
    "            if item[0] == keyword:\n",
    "                count += 1\n",
    "    return count"
   ]
  },
  {
   "cell_type": "code",
   "execution_count": 10,
   "id": "36290002",
   "metadata": {
    "ExecuteTime": {
     "end_time": "2024-03-08T13:37:13.547970Z",
     "start_time": "2024-03-08T13:37:13.543108Z"
    }
   },
   "outputs": [],
   "source": [
    "# 查看词集合中每个词出现的文章数\n",
    "def generate_word_count_dict(keywords_dict_list, keyword_set):\n",
    "    word_count_dict = {}\n",
    "    for keyword in keyword_set:\n",
    "        count = count_word_occurrences(keywords_dict_list, keyword)\n",
    "        word_count_dict[keyword] = count\n",
    "    return word_count_dict"
   ]
  },
  {
   "cell_type": "code",
   "execution_count": 11,
   "id": "8960dd8b",
   "metadata": {
    "ExecuteTime": {
     "end_time": "2024-03-08T13:37:14.190341Z",
     "start_time": "2024-03-08T13:37:14.185474Z"
    }
   },
   "outputs": [],
   "source": [
    "# 计算tf-idf\n",
    "def tf_idf_calculate():\n",
    "    tf_idf_list = []\n",
    "    keywords_dict_list = sorted_by_value(form_dict_list(content_cut()))\n",
    "    keyword_set = keywords_sum(keywords_dict_list)\n",
    "    word_count_dict = generate_word_count_dict(keywords_dict_list,keyword_set)\n",
    "    for i in range(len(keywords_dict_list)):\n",
    "        tf_idf = {}\n",
    "        for j in range(len(keywords_dict_list[i])):\n",
    "            keyword_count = keywords_dict_list[i][j][1]\n",
    "            word_count = len(keywords_dict_list[i])\n",
    "            log = math.log(len(keywords_dict_list)/word_count_dict[(keywords_dict_list[i][j][0])])\n",
    "            tf_idf[keywords_dict_list[i][j][0]] = 1000*(keyword_count/word_count)*log\n",
    "        tf_idf_list.append(tf_idf)\n",
    "    return tf_idf_list"
   ]
  },
  {
   "cell_type": "code",
   "execution_count": 12,
   "id": "d0bb322a",
   "metadata": {
    "ExecuteTime": {
     "end_time": "2024-03-08T13:37:14.794457Z",
     "start_time": "2024-03-08T13:37:14.789591Z"
    }
   },
   "outputs": [],
   "source": [
    "# 按TF-IDF值排序\n",
    "def sort_tf_idf_list(tf_idf_list):\n",
    "    sorted_list = []\n",
    "    for i in range(len(tf_idf_list)):\n",
    "        new_tf_idf_list = sorted(tf_idf_list[i].items(), key=lambda d: d[1], reverse=True)\n",
    "        sorted_list.append(new_tf_idf_list)\n",
    "    return sorted_list"
   ]
  },
  {
   "cell_type": "code",
   "execution_count": 13,
   "id": "332e0f48",
   "metadata": {
    "ExecuteTime": {
     "end_time": "2024-03-08T13:37:15.362989Z",
     "start_time": "2024-03-08T13:37:15.357150Z"
    }
   },
   "outputs": [],
   "source": [
    "# 找出关键词，这里规定排序前30的词为关键词\n",
    "def find_keywords(sorted_tf_idf_list):\n",
    "    result = []\n",
    "    for sublist in sorted_tf_idf_list:\n",
    "        pre_result = []\n",
    "        count = 0\n",
    "        for item in sublist:\n",
    "            # 原本是前1%数量的词，不过有点少\n",
    "            if item[1] > (sorted_tf_idf_list[count][int(len(sorted_tf_idf_list[count])*0.015)][1]):\n",
    "                pre_result.append(item)\n",
    "        result.append(pre_result)\n",
    "        count += 1\n",
    "    return result"
   ]
  },
  {
   "cell_type": "code",
   "execution_count": 14,
   "id": "97b20f5f",
   "metadata": {
    "ExecuteTime": {
     "end_time": "2024-03-08T13:37:16.002609Z",
     "start_time": "2024-03-08T13:37:15.998716Z"
    }
   },
   "outputs": [],
   "source": [
    "# 将关键词的列表转换为字典，便于生成词云\n",
    "def list_to_dict(result):\n",
    "    word_freq_list = []\n",
    "    for i in range(len(result)):\n",
    "        word_freq = {}\n",
    "        for word, freq in result[i]:\n",
    "            word_freq[word] = freq\n",
    "        word_freq_list.append(word_freq)\n",
    "    return word_freq_list"
   ]
  },
  {
   "cell_type": "code",
   "execution_count": 15,
   "id": "bdcfaa59",
   "metadata": {
    "ExecuteTime": {
     "end_time": "2024-03-08T13:37:16.610091Z",
     "start_time": "2024-03-08T13:37:16.604251Z"
    }
   },
   "outputs": [],
   "source": [
    "# 生成词云图，并将其转换为 base64 编码，然后生成 HTML 文件\n",
    "def gen_wordcloud_and_html(word_freq_list):\n",
    "    html_content = '<html><body>'\n",
    "    \n",
    "    for i in range(len(word_freq_list)):\n",
    "        wordcloud = WordCloud(width=800, height=400, background_color='white', font_path=font_path).generate_from_frequencies(word_freq_list[i])\n",
    "        \n",
    "        img_buffer = BytesIO()\n",
    "        wordcloud.to_image().save(img_buffer, format='PNG')\n",
    "        \n",
    "        img_str = base64.b64encode(img_buffer.getvalue()).decode('utf-8')\n",
    "        \n",
    "        keywords_text = '\\n'.join([f\"{word}: {word_freq_list[i][word]}\" for word in word_freq_list[i]])\n",
    "        \n",
    "        html_content += f'<h2>{i+2015}年词云图</h2>'\n",
    "        html_content += f'<img src=\"data:image/png;base64,{img_str}\" alt=\"{i+2015}年词云图\">'\n",
    "        html_content += f'<p style:\"font = 20\">关键词和TF-IDF值(扩大一千倍)：</p>'\n",
    "        html_content += f'<pre>{keywords_text}</pre>'\n",
    "    \n",
    "    html_content += '</body></html>'\n",
    "    \n",
    "    with open('wordclouds.html', 'w') as html_file:\n",
    "        html_file.write(html_content)"
   ]
  },
  {
   "cell_type": "code",
   "execution_count": 16,
   "id": "dc3b276a",
   "metadata": {
    "ExecuteTime": {
     "end_time": "2024-03-08T13:37:29.808864Z",
     "start_time": "2024-03-08T13:37:17.409551Z"
    },
    "scrolled": true
   },
   "outputs": [
    {
     "name": "stderr",
     "output_type": "stream",
     "text": [
      "Building prefix dict from the default dictionary ...\n",
      "Loading model from cache C:\\Users\\47226\\AppData\\Local\\Temp\\jieba.cache\n",
      "Loading model cost 0.783 seconds.\n",
      "Prefix dict has been built successfully.\n"
     ]
    }
   ],
   "source": [
    "tf_idf_list = tf_idf_calculate()"
   ]
  },
  {
   "cell_type": "code",
   "execution_count": 17,
   "id": "2048319a",
   "metadata": {
    "ExecuteTime": {
     "end_time": "2024-03-08T13:37:31.336088Z",
     "start_time": "2024-03-08T13:37:31.327333Z"
    }
   },
   "outputs": [],
   "source": [
    "sorted_tf_idf_list = sort_tf_idf_list(tf_idf_list)"
   ]
  },
  {
   "cell_type": "code",
   "execution_count": 18,
   "id": "ab4fd15e",
   "metadata": {
    "ExecuteTime": {
     "end_time": "2024-03-08T13:37:31.838104Z",
     "start_time": "2024-03-08T13:37:31.830318Z"
    }
   },
   "outputs": [
    {
     "data": {
      "text/plain": [
       "2469"
      ]
     },
     "execution_count": 18,
     "metadata": {},
     "output_type": "execute_result"
    }
   ],
   "source": [
    "len(sorted_tf_idf_list[0])"
   ]
  },
  {
   "cell_type": "code",
   "execution_count": 19,
   "id": "f86b5c98",
   "metadata": {
    "ExecuteTime": {
     "end_time": "2024-03-08T13:37:32.420302Z",
     "start_time": "2024-03-08T13:37:32.410573Z"
    }
   },
   "outputs": [],
   "source": [
    "result = find_keywords(sorted_tf_idf_list)"
   ]
  },
  {
   "cell_type": "code",
   "execution_count": 20,
   "id": "38662f14",
   "metadata": {
    "ExecuteTime": {
     "end_time": "2024-03-08T13:37:32.842475Z",
     "start_time": "2024-03-08T13:37:32.838586Z"
    }
   },
   "outputs": [
    {
     "data": {
      "text/plain": [
       "19"
      ]
     },
     "execution_count": 20,
     "metadata": {},
     "output_type": "execute_result"
    }
   ],
   "source": [
    "len(result[0])"
   ]
  },
  {
   "cell_type": "code",
   "execution_count": 21,
   "id": "ac167536",
   "metadata": {
    "ExecuteTime": {
     "end_time": "2024-03-08T13:37:33.269786Z",
     "start_time": "2024-03-08T13:37:33.265888Z"
    }
   },
   "outputs": [],
   "source": [
    "word_freq_list = list_to_dict(result)"
   ]
  },
  {
   "cell_type": "code",
   "execution_count": 22,
   "id": "a848b1f2",
   "metadata": {
    "ExecuteTime": {
     "end_time": "2024-03-08T13:37:33.990710Z",
     "start_time": "2024-03-08T13:37:33.984870Z"
    }
   },
   "outputs": [
    {
     "data": {
      "text/plain": [
       "19"
      ]
     },
     "execution_count": 22,
     "metadata": {},
     "output_type": "execute_result"
    }
   ],
   "source": [
    "len(word_freq_list[0])"
   ]
  },
  {
   "cell_type": "code",
   "execution_count": 23,
   "id": "8eebb467",
   "metadata": {
    "ExecuteTime": {
     "end_time": "2024-03-08T13:37:40.657134Z",
     "start_time": "2024-03-08T13:37:38.934639Z"
    }
   },
   "outputs": [],
   "source": [
    "gen_wordcloud_and_html(word_freq_list)"
   ]
  },
  {
   "cell_type": "code",
   "execution_count": null,
   "id": "13396875",
   "metadata": {},
   "outputs": [],
   "source": []
  }
 ],
 "metadata": {
  "kernelspec": {
   "display_name": "Python 3 (ipykernel)",
   "language": "python",
   "name": "python3"
  },
  "language_info": {
   "codemirror_mode": {
    "name": "ipython",
    "version": 3
   },
   "file_extension": ".py",
   "mimetype": "text/x-python",
   "name": "python",
   "nbconvert_exporter": "python",
   "pygments_lexer": "ipython3",
   "version": "3.12.1"
  },
  "toc": {
   "base_numbering": 1,
   "nav_menu": {},
   "number_sections": true,
   "sideBar": true,
   "skip_h1_title": false,
   "title_cell": "Table of Contents",
   "title_sidebar": "Contents",
   "toc_cell": false,
   "toc_position": {},
   "toc_section_display": true,
   "toc_window_display": false
  },
  "varInspector": {
   "cols": {
    "lenName": 16,
    "lenType": 16,
    "lenVar": 40
   },
   "kernels_config": {
    "python": {
     "delete_cmd_postfix": "",
     "delete_cmd_prefix": "del ",
     "library": "var_list.py",
     "varRefreshCmd": "print(var_dic_list())"
    },
    "r": {
     "delete_cmd_postfix": ") ",
     "delete_cmd_prefix": "rm(",
     "library": "var_list.r",
     "varRefreshCmd": "cat(var_dic_list()) "
    }
   },
   "types_to_exclude": [
    "module",
    "function",
    "builtin_function_or_method",
    "instance",
    "_Feature"
   ],
   "window_display": false
  }
 },
 "nbformat": 4,
 "nbformat_minor": 5
}
