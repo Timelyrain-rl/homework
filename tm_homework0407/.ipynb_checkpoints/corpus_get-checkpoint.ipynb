{
 "cells": [
  {
   "cell_type": "code",
   "execution_count": 1,
   "id": "9d43d2aa-8b7d-466c-9a33-7fe522511a4b",
   "metadata": {},
   "outputs": [],
   "source": [
    "import json\n",
    "import os\n",
    "from opencc import OpenCC"
   ]
  },
  {
   "cell_type": "code",
   "execution_count": 2,
   "id": "cadca883-ba88-44d0-8145-d8ef47c1af73",
   "metadata": {},
   "outputs": [],
   "source": [
    "file_count = 0"
   ]
  },
  {
   "cell_type": "code",
   "execution_count": 3,
   "id": "35ead6d0-ca87-4fc2-9296-c358454db68a",
   "metadata": {},
   "outputs": [],
   "source": [
    "def save_to_json(data, json_file):\n",
    "    with open(json_file, 'w', encoding='utf-8') as file:\n",
    "        file.write(data)\n",
    "\n",
    "def process_folder(folder_path):\n",
    "    global file_count\n",
    "    for filename in os.listdir(folder_path):\n",
    "        file_path = os.path.join(folder_path, filename)\n",
    "        if os.path.isfile(file_path):\n",
    "            with open(file_path, 'r', encoding='utf-8') as file:\n",
    "                data = file.read()\n",
    "                save_to_json(data, \"raw_text//\"+f\"file_{file_count}.json\")\n",
    "                file_count += 1\n",
    "\n",
    "folder_path = 'E:\\\\study\\\\thirdnext\\\\textmining_ex\\\\new'\n",
    "\n",
    "process_folder(folder_path)"
   ]
  },
  {
   "cell_type": "code",
   "execution_count": 4,
   "id": "e5ee6870-eb02-471c-bff0-97f709b9eb7e",
   "metadata": {},
   "outputs": [
    {
     "name": "stdout",
     "output_type": "stream",
     "text": [
      "100\n"
     ]
    }
   ],
   "source": [
    "print(file_count)"
   ]
  },
  {
   "cell_type": "code",
   "execution_count": 5,
   "id": "ec19f425-54ed-4e6e-b53c-13458ef2b8fd",
   "metadata": {},
   "outputs": [],
   "source": [
    "def json_file_list(json_folder):\n",
    "    file_name_list = []\n",
    "    for filename in os.listdir(json_folder):\n",
    "        file_path = os.path.join(json_folder, filename)\n",
    "        if os.path.isfile(file_path):\n",
    "            file_name_list.append(filename)\n",
    "    return file_name_list"
   ]
  },
  {
   "cell_type": "code",
   "execution_count": 6,
   "id": "6a0cdc6a-5835-489a-aa59-eea3662d14c7",
   "metadata": {},
   "outputs": [],
   "source": [
    "file_name_list = json_file_list(\"raw_text\")\n",
    "\n",
    "converter = OpenCC('t2s')  # t2s表示繁体转简体\n",
    "\n",
    "for file_name in file_name_list:\n",
    "    \n",
    "    with open(\"raw_text/\"+file_name, 'r') as json_file:\n",
    "        json_data = json_file.read()\n",
    "    \n",
    "    json_objects = json_data.splitlines()\n",
    "\n",
    "    # 解析每个JSON对象\n",
    "    for obj in json_objects:\n",
    "        data = json.loads(obj)\n",
    "        with open(\"text_train/\"+file_name.replace(\"json\",\"txt\"), 'a', encoding=\"UTF-8\") as json_file:\n",
    "            json_file.write(converter.convert(data[\"text\"].replace(\"\\n\",\"\")))"
   ]
  },
  {
   "cell_type": "code",
   "execution_count": null,
   "id": "9a21c4b1-2d29-4a8b-be75-c18a13ddbe5f",
   "metadata": {},
   "outputs": [],
   "source": []
  }
 ],
 "metadata": {
  "kernelspec": {
   "display_name": "torch222",
   "language": "python",
   "name": "torch222"
  },
  "language_info": {
   "codemirror_mode": {
    "name": "ipython",
    "version": 3
   },
   "file_extension": ".py",
   "mimetype": "text/x-python",
   "name": "python",
   "nbconvert_exporter": "python",
   "pygments_lexer": "ipython3",
   "version": "3.9.19"
  }
 },
 "nbformat": 4,
 "nbformat_minor": 5
}
