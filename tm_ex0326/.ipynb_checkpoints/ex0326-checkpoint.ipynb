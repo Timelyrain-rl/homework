{
 "cells": [
  {
   "cell_type": "code",
   "execution_count": null,
   "id": "7fe3f759-47df-4bc9-a532-db3246324c13",
   "metadata": {},
   "outputs": [],
   "source": [
    "import torch"
   ]
  },
  {
   "cell_type": "markdown",
   "id": "93f927a1-1a12-445c-a5b7-7530d8e82c69",
   "metadata": {},
   "source": [
    "Create a random tensor of size (3, 4) using PyTorch's torch.randn function. <br />\n",
    "Compute the sum, mean, and standard deviation of the tensor using PyTorch's built-in functions."
   ]
  },
  {
   "cell_type": "code",
   "execution_count": null,
   "id": "40b09e3b-ed5e-4846-9ad4-6a76ebd95c7a",
   "metadata": {},
   "outputs": [],
   "source": [
    "randn101 = torch.randn(3,4)\n",
    "print(f\"张量为：\\n{randn101}\\n\")\n",
    "print(f\"张量求和为：{torch.sum(randn101)}\\n\")\n",
    "print(f\"张量平均值为：{torch.mean(randn101)}\\n\")\n",
    "print(f\"张量标准差为：{torch.std(randn101)}\\n \")"
   ]
  },
  {
   "cell_type": "code",
   "execution_count": null,
   "id": "c23ee50d-a1d6-4c94-b168-691ee4ce75a7",
   "metadata": {},
   "outputs": [],
   "source": []
  },
  {
   "cell_type": "markdown",
   "id": "6ea96e62-7eb9-4009-a3ea-7c496b1f59a7",
   "metadata": {},
   "source": [
    "Create two tensors of size (2, 3) and (3, 4) using PyTorch's torch.randn function. <br />\n",
    "Compute the matrix product of the two tensors using PyTorch's torch.matmul function."
   ]
  },
  {
   "cell_type": "code",
   "execution_count": null,
   "id": "be0612b0-9401-4baa-90ac-5d99c3028342",
   "metadata": {},
   "outputs": [],
   "source": [
    "randn201 = torch.randn(2,3)\n",
    "randn202 = torch.randn(3,4)\n",
    "randn201x202 = torch.matmul(randn201,randn202)\n",
    "print(f\"两个张量分别为：\\n{randn201}\\n\\n{randn202}\\n\")\n",
    "print(f\"张量相乘后的结果为：\\n{randn201x202}\")"
   ]
  },
  {
   "cell_type": "code",
   "execution_count": null,
   "id": "e431e985-0d0f-4908-b9e8-c326d2a7f48c",
   "metadata": {},
   "outputs": [],
   "source": []
  },
  {
   "cell_type": "markdown",
   "id": "d648f479-2d73-4b6c-afe1-0afbd9b4a272",
   "metadata": {},
   "source": [
    "Create a tensor of size (2, 3, 4) using PyTorch's torch.randn function. <br />\n",
    "Use PyTorch's tensor.view function to reshape the tensor into a tensor of size (2, 12)."
   ]
  },
  {
   "cell_type": "code",
   "execution_count": null,
   "id": "49c3f518-dd69-4f17-8050-a4338f9e7c7e",
   "metadata": {},
   "outputs": [],
   "source": [
    "randn301 = torch.randn(2,3,4)\n",
    "randn301_view = randn301.view(2,12)\n",
    "print(f\"原张量为：\\n{randn301}\\n\")\n",
    "print(f\"使用view进行reshape后的张量为：\\n{randn301_view}\")"
   ]
  },
  {
   "cell_type": "code",
   "execution_count": null,
   "id": "e310c832-dc0a-4433-9fde-0133fec4e8bf",
   "metadata": {},
   "outputs": [],
   "source": []
  },
  {
   "cell_type": "markdown",
   "id": "6c278b62-20ad-4c55-81ab-fd9962c6e5e6",
   "metadata": {},
   "source": [
    "Create a tensor of size (3, 3) using PyTorch's torch.randn function. <br />\n",
    "Use PyTorch's indexing and slicing syntax to extract a sub-tensor consisting of the first 2 rows and last 2 columns."
   ]
  },
  {
   "cell_type": "code",
   "execution_count": null,
   "id": "a95f8187-1e67-4725-8957-0f6d6b764612",
   "metadata": {},
   "outputs": [],
   "source": [
    "randn401 = torch.randn(3,3)\n",
    "randn401_sub = randn401[:2,-2:]\n",
    "print(f\"原张量为：\\n{randn401}\\n\")\n",
    "print(f\"取出的张量为：\\n{randn401_sub}\\n\")"
   ]
  },
  {
   "cell_type": "code",
   "execution_count": null,
   "id": "c595f16b-2ff5-46d5-af46-9f02a3018124",
   "metadata": {},
   "outputs": [],
   "source": []
  },
  {
   "cell_type": "markdown",
   "id": "4fd0554c-16a2-446b-a8bd-b9a3f2645a5a",
   "metadata": {},
   "source": [
    "Create a random tensor of size (2, 3, 4, 5) using PyTorch's torch.randn function. <br />\n",
    "Permute the dimensions of the tensor so that the new dimensions are (2, 4, 5, 3)"
   ]
  },
  {
   "cell_type": "code",
   "execution_count": null,
   "id": "f3169fe2-6164-4265-97d6-fc36a5ce3f35",
   "metadata": {},
   "outputs": [],
   "source": [
    "randn501 = torch.randn(2,3,4,5)\n",
    "randn501_permute = randn501.permute(0,2,3,1)\n",
    "print(f\"原张量为：\\n{randn501}\\n\")\n",
    "print(f\"转置后的张量为：\\n{randn501_permute}\\n\")"
   ]
  },
  {
   "cell_type": "code",
   "execution_count": null,
   "id": "4c3ba6f2-d6d7-4cb1-a0a0-6c4069f2700b",
   "metadata": {},
   "outputs": [],
   "source": []
  },
  {
   "cell_type": "markdown",
   "id": "bdd4196a-b066-4114-bdc5-2d2fd94c669a",
   "metadata": {},
   "source": [
    "Given a tensor A of size (batch_size, n, m) and a tensor B of size (batch_size, m, p), calculate their batch matrix multiplication"
   ]
  },
  {
   "cell_type": "code",
   "execution_count": null,
   "id": "e04addc2-2c58-4a1a-bc1c-6d4a556b8cdd",
   "metadata": {
    "editable": true,
    "slideshow": {
     "slide_type": ""
    },
    "tags": []
   },
   "outputs": [],
   "source": [
    "tensorA = torch.randn(2,3,4)\n",
    "tensorB = torch.randn(2,4,5)\n",
    "tensorAxB = torch.bmm(tensorA,tensorB)\n",
    "print(f\"张量A为：\\n{tensorA}\\n张量B为：\\n{tensorB}\\n\")\n",
    "print(f\"使用bmm方法相乘后的张量为：\\n{tensorAxB}\")"
   ]
  },
  {
   "cell_type": "code",
   "execution_count": null,
   "id": "32d4b9c9-987b-4650-8879-a0c7ff180eca",
   "metadata": {},
   "outputs": [],
   "source": []
  },
  {
   "cell_type": "markdown",
   "id": "5b505b8f-9f2e-4e24-a645-25b06ff719f6",
   "metadata": {},
   "source": [
    "请任找一个中文文本集合，将该段中文文本进行预处理:\n",
    "\n",
    "首先将该文本进行分词，将文本集合转换为一个2维的列表tokens\n",
    "\n",
    "创建一个Vocab类<br />\n",
    "-\tinit方法里面根据词频的大小排序建立词汇表vocabulary <br />\n",
    "-\tinit方法里面定义变量idx_to_token实现数字和词语的映射 <br />\n",
    "-\tinit方法里面定义变量token_to_idx实现词语和数字的映射 <br />\n",
    "-\t定义convert_tokens_to_indices方法实现将词语序列转换为数字的序列 <br />\n",
    "-\t定义convert_indices_to_tokens方法实现数字序列转为词语序列的逆变换 <br />\n",
    "-\t定义__len__方法实现计算vocabulary的长度\n",
    "\n",
    "实例化Vocab类，并测试上述几个函数\n"
   ]
  },
  {
   "cell_type": "code",
   "execution_count": 1,
   "id": "099f2f94-4540-41de-9dd8-fda96ff6664f",
   "metadata": {},
   "outputs": [],
   "source": [
    "import os\n",
    "import jieba\n",
    "from collections import Counter"
   ]
  },
  {
   "cell_type": "code",
   "execution_count": 2,
   "id": "6387b9d5-0c9e-4c0e-9410-28122bb18380",
   "metadata": {},
   "outputs": [],
   "source": [
    "def read_folder(folder_path):\n",
    "    \"\"\"\n",
    "    读取文件夹下所有文件\n",
    "\n",
    "    :param folder_path:存放txt文件的文件夹路径，这里就是同目录下的 text_train 文件夹\n",
    "    :return:存放文件内容的列表 documents\n",
    "    \"\"\"\n",
    "    tokens = []\n",
    "\n",
    "    for text_name in os.listdir(folder_path):\n",
    "        # print(text_name)\n",
    "        file_path = os.path.join(folder_path, text_name)\n",
    "        if os.path.isfile(file_path) and text_name.endswith('.txt'):\n",
    "            with open(file_path, 'r', encoding='utf-8') as file:\n",
    "                text = file.read().replace(\"\\n\",\"\")\n",
    "                tokens.append(text)\n",
    "    return tokens\n",
    "\n",
    "def read_text(file_path):\n",
    "    \"\"\"\n",
    "    读取单个文件\n",
    "\n",
    "    :param file_path:txt的文件路径\n",
    "    :return:存放文件内容的字符串 text\n",
    "    \"\"\"\n",
    "    with open(file_path, 'r', encoding='utf-8') as file:\n",
    "        text = file.read().replace(\"\\n\",\"\")\n",
    "        \n",
    "    return text"
   ]
  },
  {
   "cell_type": "code",
   "execution_count": 3,
   "id": "785bbec8-c11c-47ad-aa88-b2a109f5cb12",
   "metadata": {},
   "outputs": [],
   "source": [
    "def tokens_cut(text_train_list):\n",
    "    tokens = []\n",
    "    for text_train in text_train_list:\n",
    "        text_train_cutted = jieba.lcut(text_train)\n",
    "        tokens.append(text_train_cutted)\n",
    "    return tokens"
   ]
  },
  {
   "cell_type": "code",
   "execution_count": 4,
   "id": "5bcc0946-d76f-49ae-ac47-1ca47ce4b5cd",
   "metadata": {},
   "outputs": [],
   "source": [
    "class Vocab:\n",
    "    def __init__(self, tokens):\n",
    "        \"\"\"\n",
    "        传入对文本列表，构建词汇表\n",
    "        构建从词语到数字的映射表与从数字到词语的映射表\n",
    "        :param tokens\n",
    "        :return:\n",
    "        \"\"\"\n",
    "        tokens_train = []\n",
    "        for token in tokens:\n",
    "            tokens_train.extend(token)\n",
    "\n",
    "        self.token_length = len(tokens_train)\n",
    "        token_counter = Counter(tokens_train)\n",
    "        # 根据词频的大小排序\n",
    "        sorted_tokens = sorted(token_counter.items(), key=lambda x: x[1], reverse=True)\n",
    "        # 根据 sorted_tokens 生成 vocabulary 列表充当词汇表，保留排序特征\n",
    "        self.vocabulary = [token for token, _ in sorted_tokens]\n",
    "        # 未知字符的处理\n",
    "        self.vocabulary.append('<unk>')\n",
    "        # 根据词汇表 vocabulary 生成数字到词语的映射表\n",
    "        self.idx_to_token = {idx: token for idx, token in enumerate(self.vocabulary)}\n",
    "        # 根据词汇表 vocabulary 生成词语到数字的映射表\n",
    "        self.token_to_idx = {token: idx for idx, token in enumerate(self.vocabulary)}\n",
    "\n",
    "    def convert_tokens_to_indices(self, tokens):\n",
    "        \"\"\"\n",
    "        将词语映射为数字，如果遇到词汇表中没有的词语，则给予词汇表最后一个词<unk>对应的索引\n",
    "        :param tokens 为一维列表\n",
    "        :return:\n",
    "        \"\"\"\n",
    "        return [self.token_to_idx.get(token, len(self.vocabulary) - 1) for token in tokens]\n",
    "\n",
    "    def convert_indices_to_tokens(self, indices):\n",
    "        \"\"\"\n",
    "        将数字映射为词语，如果遇到映射表中没有的，则给予词汇表最后一个词<unk>\n",
    "        :param indices 为一维列表\n",
    "        :return:\n",
    "        \"\"\"\n",
    "        return [self.idx_to_token.get(idx, self.vocabulary[-1]) for idx in indices]\n",
    "\n",
    "    def __len__(self):\n",
    "        \"\"\"\n",
    "        因为词汇表末尾是未知字符<unk>，所以减去1才是真正的词汇表长度\n",
    "        \"\"\"\n",
    "        return len(self.vocabulary) - 1"
   ]
  },
  {
   "cell_type": "code",
   "execution_count": 6,
   "id": "e7f640bc-427c-4d63-90fd-42cc83a1b532",
   "metadata": {
    "scrolled": true
   },
   "outputs": [
    {
     "name": "stdout",
     "output_type": "stream",
     "text": [
      "token量为：\n",
      "17853\n",
      "\n",
      "词汇表长度：\n",
      "3377\n",
      "\n"
     ]
    }
   ],
   "source": [
    "text_train_list = read_folder(\"text_train\")\n",
    "tokens_train = tokens_cut(text_train_list)\n",
    "vocab = Vocab(tokens_train)\n",
    "\n",
    "print(f\"token量为：\\n{vocab.token_length}\\n\")\n",
    "print(f\"词汇表长度：\\n{len(vocab)}\\n\")"
   ]
  },
  {
   "cell_type": "code",
   "execution_count": 7,
   "id": "d4facc41-202a-444a-8c1a-09ff75841602",
   "metadata": {},
   "outputs": [
    {
     "name": "stdout",
     "output_type": "stream",
     "text": [
      "词语到数字的映射：\n",
      "。: 0\n",
      "的: 1\n",
      "，: 2\n",
      "是: 3\n",
      "我: 4\n",
      "了: 5\n",
      "在: 6\n",
      "也: 7\n",
      "“: 8\n",
      "”: 9\n",
      "—: 10\n",
      "…: 11\n",
      "没有: 12\n",
      "就: 13\n",
      "人: 14\n",
      "着: 15\n",
      "不: 16\n",
      "吧: 17\n",
      "式: 18\n",
      "那: 19\n",
      "你: 20\n",
      "这: 21\n",
      "不过: 22\n",
      "说: 23\n",
      "从: 24\n",
      "有: 25\n",
      "到: 26\n",
      "这个: 27\n",
      "被: 28\n",
      "什么: 29\n",
      "\n",
      "数字到词语的映射：\n",
      "0: 。\n",
      "1: 的\n",
      "2: ，\n",
      "3: 是\n",
      "4: 我\n",
      "5: 了\n",
      "6: 在\n",
      "7: 也\n",
      "8: “\n",
      "9: ”\n",
      "10: —\n",
      "11: …\n",
      "12: 没有\n",
      "13: 就\n",
      "14: 人\n",
      "15: 着\n",
      "16: 不\n",
      "17: 吧\n",
      "18: 式\n",
      "19: 那\n",
      "20: 你\n",
      "21: 这\n",
      "22: 不过\n",
      "23: 说\n",
      "24: 从\n",
      "25: 有\n",
      "26: 到\n",
      "27: 这个\n",
      "28: 被\n",
      "29: 什么\n"
     ]
    }
   ],
   "source": [
    "print(\"词语到数字的映射：\")\n",
    "for token, idx in list(vocab.token_to_idx.items())[:30]:\n",
    "    print(f\"{token}: {idx}\")\n",
    "\n",
    "print(\"\\n数字到词语的映射：\")\n",
    "for idx, token in list(vocab.idx_to_token.items())[:30]:\n",
    "    print(f\"{idx}: {token}\")"
   ]
  },
  {
   "cell_type": "code",
   "execution_count": 8,
   "id": "ed12544a-4f02-469d-99ac-ce8f99a471e4",
   "metadata": {},
   "outputs": [
    {
     "name": "stdout",
     "output_type": "stream",
     "text": [
      "用于测试的文本量： 2772\n",
      "映射的数字：\n",
      "[154, 3377, 191, 1, 863, 2, 21, 3377, 3, 634, 1, 0, 10, 10, 262, 39, 3377, 50, 5, 0, 21, 72, 2, 88, 48, 1145, 25, 1, 1208, 0]\n",
      "\n",
      "映射的词语：\n",
      "['由于', '<unk>', '出来', '的', '血', '，', '这', '<unk>', '是', '红色', '的', '。', '—', '—', '渐渐', '地', '<unk>', '起来', '了', '。', '这', '就是', '，', '她', '所', '抱', '有', '的', '感想', '。']\n"
     ]
    }
   ],
   "source": [
    "text_test = read_text(\"text_test.txt\")\n",
    "\n",
    "tokens_test = jieba.lcut(text_test)\n",
    "print(\"用于测试的文本量：\", len(text_test))\n",
    "\n",
    "indices_test = vocab.convert_tokens_to_indices(tokens_test)\n",
    "print(f\"映射的数字：\\n{indices_test[0:30]}\\n\")\n",
    "\n",
    "tokens_test = vocab.convert_indices_to_tokens(indices_test)\n",
    "print(f\"映射的词语：\\n{tokens_test[0:30]}\")"
   ]
  },
  {
   "cell_type": "code",
   "execution_count": null,
   "id": "776f35b0-6e58-4e2f-87d3-65f4472b6f99",
   "metadata": {},
   "outputs": [],
   "source": []
  }
 ],
 "metadata": {
  "kernelspec": {
   "display_name": "torch222",
   "language": "python",
   "name": "torch222"
  },
  "language_info": {
   "codemirror_mode": {
    "name": "ipython",
    "version": 3
   },
   "file_extension": ".py",
   "mimetype": "text/x-python",
   "name": "python",
   "nbconvert_exporter": "python",
   "pygments_lexer": "ipython3",
   "version": "3.9.19"
  }
 },
 "nbformat": 4,
 "nbformat_minor": 5
}
