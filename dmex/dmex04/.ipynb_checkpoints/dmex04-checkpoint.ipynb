{
 "cells": [
  {
   "cell_type": "code",
   "execution_count": 15,
   "id": "b551f941-bdd6-4d06-bd1f-a7b399c1d506",
   "metadata": {},
   "outputs": [],
   "source": [
    "from sklearn.datasets import load_digits\n",
    "from sklearn.preprocessing import scale\n",
    "from sklearn.cluster import KMeans, DBSCAN\n",
    "import numpy as np\n",
    "\n",
    "# 导入digits数据集\n",
    "digits = load_digits()\n",
    "\n",
    "# 数据标准化\n",
    "data = scale(digits.data)"
   ]
  },
  {
   "cell_type": "code",
   "execution_count": 16,
   "id": "b915c00f-6153-4d3e-ae6b-05918a14b0fa",
   "metadata": {},
   "outputs": [],
   "source": [
    "# 使用K-Means算法进行聚类\n",
    "kmeans = KMeans(n_clusters=10, random_state=42)\n",
    "kmeans_labels = kmeans.fit_predict(data)"
   ]
  },
  {
   "cell_type": "code",
   "execution_count": 17,
   "id": "1adacf67-1e8a-486a-a6a5-eb3833d2472c",
   "metadata": {},
   "outputs": [],
   "source": [
    "# 使用DBSCAN算法进行聚类\n",
    "dbscan = DBSCAN(eps=3, min_samples=5)\n",
    "dbscan_labels = dbscan.fit_predict(data)"
   ]
  },
  {
   "cell_type": "code",
   "execution_count": 18,
   "id": "2e4ecb79-65e8-49e8-abb0-c0667950ad5d",
   "metadata": {},
   "outputs": [
    {
     "name": "stdout",
     "output_type": "stream",
     "text": [
      "K-Means算法聚类结果的标签：[0 1 2 3 4 5 6 7 8 9]\n",
      "DBSCAN算法聚类结果的标签：[-1  0  1  2  3  4  5  6  7  8  9 10 11 12]\n"
     ]
    }
   ],
   "source": [
    "unique_kmeans_labels = np.unique(kmeans_labels)\n",
    "print(f'K-Means算法聚类结果的标签：{unique_kmeans_labels}')\n",
    "unique_dbscan_labels = np.unique(dbscan_labels)\n",
    "print(f'DBSCAN算法聚类结果的标签：{unique_dbscan_labels}')"
   ]
  },
  {
   "cell_type": "code",
   "execution_count": null,
   "id": "df245262-c82f-4eec-8897-389275968d2a",
   "metadata": {},
   "outputs": [],
   "source": []
  }
 ],
 "metadata": {
  "kernelspec": {
   "display_name": "datamining",
   "language": "python",
   "name": "datamining"
  },
  "language_info": {
   "codemirror_mode": {
    "name": "ipython",
    "version": 3
   },
   "file_extension": ".py",
   "mimetype": "text/x-python",
   "name": "python",
   "nbconvert_exporter": "python",
   "pygments_lexer": "ipython3",
   "version": "3.9.19"
  }
 },
 "nbformat": 4,
 "nbformat_minor": 5
}
